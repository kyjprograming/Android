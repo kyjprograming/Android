{
  "cells": [
    {
      "cell_type": "markdown",
      "metadata": {
        "id": "view-in-github",
        "colab_type": "text"
      },
      "source": [
        "<a href=\"https://colab.research.google.com/github/kyjprograming/Android/blob/master/Day01_09_speech_to_text.ipynb\" target=\"_parent\"><img src=\"https://colab.research.google.com/assets/colab-badge.svg\" alt=\"Open In Colab\"/></a>"
      ]
    },
    {
      "cell_type": "markdown",
      "id": "2035d625",
      "metadata": {
        "id": "2035d625"
      },
      "source": [
        "# Day1_09_speech_to_text\n",
        "\n",
        "<div align='right'>류 회 성<br>(Hoe Sung Ryu)</div>\n",
        "\n",
        "  \n",
        "<img src='../imgs/text2speech.jpg' width=40%>\n",
        "\n",
        "    \n",
        "---"
      ]
    },
    {
      "cell_type": "markdown",
      "id": "745ed3db",
      "metadata": {
        "id": "745ed3db"
      },
      "source": [
        "## 지원언어목록\n",
        "\n",
        "|태크명|언어명|\n",
        "|--|---|\n",
        "|ko|한국어|\n",
        "|en-us|미국영어|\n",
        "|en-uk|영국영어|\n",
        "|zh-cn|중국/china|\n",
        "|zh-tw|중국/타이완|\n",
        "|ja|일본어|"
      ]
    },
    {
      "cell_type": "code",
      "execution_count": null,
      "id": "e601f4e5",
      "metadata": {
        "ExecuteTime": {
          "end_time": "2022-06-09T13:38:41.687975Z",
          "start_time": "2022-06-09T13:38:38.575463Z"
        },
        "id": "e601f4e5",
        "outputId": "0f31c341-5f4f-4691-cf13-f8c81ab24a69"
      },
      "outputs": [
        {
          "name": "stdout",
          "output_type": "stream",
          "text": [
            "Collecting gTTS\n",
            "  Downloading gTTS-2.2.4-py3-none-any.whl (26 kB)\n",
            "Requirement already satisfied: six in c:\\users\\hoesung\\.conda\\envs\\torch\\lib\\site-packages (from gTTS) (1.15.0)\n",
            "Requirement already satisfied: requests in c:\\users\\hoesung\\.conda\\envs\\torch\\lib\\site-packages (from gTTS) (2.27.1)\n",
            "Requirement already satisfied: click in c:\\users\\hoesung\\.conda\\envs\\torch\\lib\\site-packages (from gTTS) (7.1.2)\n",
            "Requirement already satisfied: charset-normalizer~=2.0.0 in c:\\users\\hoesung\\.conda\\envs\\torch\\lib\\site-packages (from requests->gTTS) (2.0.10)\n",
            "Requirement already satisfied: idna<4,>=2.5 in c:\\users\\hoesung\\.conda\\envs\\torch\\lib\\site-packages (from requests->gTTS) (3.3)\n",
            "Requirement already satisfied: urllib3<1.27,>=1.21.1 in c:\\users\\hoesung\\.conda\\envs\\torch\\lib\\site-packages (from requests->gTTS) (1.26.8)\n",
            "Requirement already satisfied: certifi>=2017.4.17 in c:\\users\\hoesung\\.conda\\envs\\torch\\lib\\site-packages (from requests->gTTS) (2021.10.8)\n",
            "Installing collected packages: gTTS\n",
            "Successfully installed gTTS-2.2.4\n"
          ]
        },
        {
          "name": "stderr",
          "output_type": "stream",
          "text": [
            "WARNING: Ignoring invalid distribution -ystan (c:\\users\\hoesung\\.conda\\envs\\torch\\lib\\site-packages)\n",
            "WARNING: Ignoring invalid distribution -ystan (c:\\users\\hoesung\\.conda\\envs\\torch\\lib\\site-packages)\n",
            "WARNING: Ignoring invalid distribution -ystan (c:\\users\\hoesung\\.conda\\envs\\torch\\lib\\site-packages)\n",
            "WARNING: Ignoring invalid distribution -ystan (c:\\users\\hoesung\\.conda\\envs\\torch\\lib\\site-packages)\n",
            "WARNING: Ignoring invalid distribution -ystan (c:\\users\\hoesung\\.conda\\envs\\torch\\lib\\site-packages)\n",
            "WARNING: Ignoring invalid distribution -ystan (c:\\users\\hoesung\\.conda\\envs\\torch\\lib\\site-packages)\n",
            "WARNING: Ignoring invalid distribution -ystan (c:\\users\\hoesung\\.conda\\envs\\torch\\lib\\site-packages)\n"
          ]
        }
      ],
      "source": [
        "!pip install gTTS"
      ]
    },
    {
      "cell_type": "code",
      "execution_count": null,
      "id": "945a2c6f",
      "metadata": {
        "ExecuteTime": {
          "end_time": "2022-06-09T13:39:04.053920Z",
          "start_time": "2022-06-09T13:39:03.908484Z"
        },
        "id": "945a2c6f"
      },
      "outputs": [],
      "source": [
        "import IPython\n",
        "from gtts import gTTS\n",
        "\n",
        "%matplotlib inline"
      ]
    },
    {
      "cell_type": "code",
      "execution_count": null,
      "id": "32c47c59",
      "metadata": {
        "ExecuteTime": {
          "end_time": "2022-06-09T13:39:04.782914Z",
          "start_time": "2022-06-09T13:39:04.178569Z"
        },
        "id": "32c47c59"
      },
      "outputs": [],
      "source": [
        "def text2speech(text,name,lang='ko'):\n",
        "    tts_ko = gTTS(text=text, lang=lang)\n",
        "    tts_ko.save(name)\n",
        "    \n",
        "    return None"
      ]
    },
    {
      "cell_type": "code",
      "execution_count": null,
      "id": "cb01e9ba",
      "metadata": {
        "id": "cb01e9ba"
      },
      "outputs": [],
      "source": [
        "# text='안녕하세요. 저는 2020년 06월 22일에 태어난 프로그램 입니다.'\n",
        "# text='Good evening boss, How can I help you? '"
      ]
    },
    {
      "cell_type": "code",
      "execution_count": null,
      "id": "919eae69",
      "metadata": {
        "id": "919eae69"
      },
      "outputs": [],
      "source": [
        "text = \"\"\"Inspired by progress in large-scale language modeling,\n",
        " we apply a similar approach towards building a single generalist agent \n",
        " beyond the realm of text.\n",
        "\"\"\"\n",
        "name = '1.mp3'\n",
        "text2speech(text, name, lang='en-uk')\n",
        "IPython.display.Audio(name)"
      ]
    },
    {
      "cell_type": "code",
      "execution_count": null,
      "id": "3fe491f3",
      "metadata": {
        "ExecuteTime": {
          "end_time": "2022-06-09T13:39:07.134388Z",
          "start_time": "2022-06-09T13:39:06.601655Z"
        },
        "id": "3fe491f3",
        "outputId": "85ebbc1b-1e52-4cb2-a841-ead791c19c9f"
      },
      "outputs": [
        {
          "data": {
            "text/html": [
              "\n",
              "                <audio  controls=\"controls\" >\n",
              "                    <source src=\"data:audio/mpeg;base64,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\" type=\"audio/mpeg\" />\n",
              "                    Your browser does not support the audio element.\n",
              "                </audio>\n",
              "              "
            ],
            "text/plain": [
              "<IPython.lib.display.Audio object>"
            ]
          },
          "execution_count": 5,
          "metadata": {},
          "output_type": "execute_result"
        }
      ],
      "source": [
        "# 내리실 문은 왼쪽입니다. \n",
        "# 이번역은 안암 안암역입니다. 내리실 문은 왼쪽입니다. \n",
        "\n",
        "text= \"\"\"\n",
        "이번역은 안암,  안암역입니다. 내리실 문은 왼쪽입니다.\n",
        "\"\"\"\n",
        "\n",
        "name = '1.mp3'\n",
        "text2speech(text, name, lang='ko')\n",
        "IPython.display.Audio(name)"
      ]
    },
    {
      "cell_type": "markdown",
      "id": "b2502f6d",
      "metadata": {
        "id": "b2502f6d"
      },
      "source": [
        ""
      ]
    }
  ],
  "metadata": {
    "kernelspec": {
      "display_name": "Python 3",
      "language": "python",
      "name": "python3"
    },
    "language_info": {
      "codemirror_mode": {
        "name": "ipython",
        "version": 3
      },
      "file_extension": ".py",
      "mimetype": "text/x-python",
      "name": "python",
      "nbconvert_exporter": "python",
      "pygments_lexer": "ipython3",
      "version": "3.8.10"
    },
    "toc": {
      "base_numbering": 1,
      "nav_menu": {},
      "number_sections": true,
      "sideBar": true,
      "skip_h1_title": false,
      "title_cell": "Table of Contents",
      "title_sidebar": "Contents",
      "toc_cell": false,
      "toc_position": {},
      "toc_section_display": true,
      "toc_window_display": false
    },
    "varInspector": {
      "cols": {
        "lenName": 16,
        "lenType": 16,
        "lenVar": 40
      },
      "kernels_config": {
        "python": {
          "delete_cmd_postfix": "",
          "delete_cmd_prefix": "del ",
          "library": "var_list.py",
          "varRefreshCmd": "print(var_dic_list())"
        },
        "r": {
          "delete_cmd_postfix": ") ",
          "delete_cmd_prefix": "rm(",
          "library": "var_list.r",
          "varRefreshCmd": "cat(var_dic_list()) "
        }
      },
      "types_to_exclude": [
        "module",
        "function",
        "builtin_function_or_method",
        "instance",
        "_Feature"
      ],
      "window_display": false
    },
    "colab": {
      "name": "Day01_09_speech_to_text.ipynb",
      "provenance": [],
      "include_colab_link": true
    }
  },
  "nbformat": 4,
  "nbformat_minor": 5
}